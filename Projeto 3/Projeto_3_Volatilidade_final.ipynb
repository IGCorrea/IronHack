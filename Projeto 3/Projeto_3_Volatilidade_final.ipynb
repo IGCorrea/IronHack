{
 "cells": [
  {
   "cell_type": "markdown",
   "id": "d8bdb85a",
   "metadata": {},
   "source": [
    "# Importando bibliotecas e arquivos"
   ]
  },
  {
   "cell_type": "code",
   "execution_count": null,
   "id": "84e0bb90",
   "metadata": {},
   "outputs": [],
   "source": [
    "import pandas as pd\n",
    "import numpy as np\n",
    "from tqdm import tqdm\n",
    "\n",
    "import warnings\n",
    "warnings.filterwarnings(\"ignore\")"
   ]
  },
  {
   "cell_type": "code",
   "execution_count": null,
   "id": "d4847c2e",
   "metadata": {},
   "outputs": [],
   "source": [
    "from dataprep import bookfeat,tradefeat,max_min, aggfunc\n",
    "from modelo import modelo"
   ]
  },
  {
   "cell_type": "markdown",
   "id": "590ad42d",
   "metadata": {},
   "source": [
    "## Lendo o endereço de cada dataframe"
   ]
  },
  {
   "cell_type": "code",
   "execution_count": null,
   "id": "aa764b2d",
   "metadata": {
    "scrolled": true
   },
   "outputs": [],
   "source": [
    "df_url=pd.read_csv('./Projeto 3 - Volatilidade/df_url.csv')\n",
    "df_url"
   ]
  },
  {
   "cell_type": "code",
   "execution_count": null,
   "id": "2ad17847",
   "metadata": {},
   "outputs": [],
   "source": [
    "a=0\n",
    "for i in df_url['stock_id'].unique():\n",
    "    df_url['trade'][a]=(f'./Projeto 3 - Volatilidade/trade_train.parquet/stock_id={i}/' + df_url['trade'][a])\n",
    "    df_url['book'][a]=(f'./Projeto 3 - Volatilidade/trade_train.parquet/stock_id={i}/' + df_url['book'][a])\n",
    "    a+=1\n",
    "    "
   ]
  },
  {
   "cell_type": "markdown",
   "id": "3f96e547",
   "metadata": {},
   "source": [
    "# Agregando Dataframe\n",
    "\n",
    "Looping para abrir cada arquivo do tipo .parquet que compõe os dataframes de book e trade para cada ação. Dentro do loop realizar os features engineering para ambos os dataframes e fazer as agregações necessárias para alcançar a granularidade do dataframe que vai para o modelo com o target."
   ]
  },
  {
   "cell_type": "code",
   "execution_count": null,
   "id": "4132e825",
   "metadata": {},
   "outputs": [],
   "source": [
    "for i in tqdm(df_url['stock_id'].unique()):\n",
    "    x = df_url.loc[df_url['stock_id']==i,'book'].values[0]\n",
    "    y = df_url.loc[df_url['stock_id']==i,'trade'].values[0]\n",
    "    df_book = bookfeat(pd.read_parquet(x))\n",
    "    df_trade = tradefeat(pd.read_parquet(y))\n",
    "    \n",
    "    df_final1=aggfunc(df_book,df_trade)\n",
    "    df_final1['stock_id'] = i\n",
    "    df_final=pd.concat([df_final,df_final1])\n",
    "    "
   ]
  },
  {
   "cell_type": "markdown",
   "id": "6652445a",
   "metadata": {},
   "source": [
    "Limpando e editando o dataframe gerado"
   ]
  },
  {
   "cell_type": "code",
   "execution_count": null,
   "id": "01c8ad75",
   "metadata": {},
   "outputs": [],
   "source": [
    "df_final = df_final.dropna()"
   ]
  },
  {
   "cell_type": "code",
   "execution_count": null,
   "id": "95ea08e7",
   "metadata": {},
   "outputs": [],
   "source": [
    "df_final=df_final.drop_duplicates().reset_index()\n"
   ]
  },
  {
   "cell_type": "code",
   "execution_count": null,
   "id": "092edeeb",
   "metadata": {},
   "outputs": [],
   "source": [
    "df_final['stock_id']=df_final['stock_id'].astype(float)\n",
    "df_final['stock_id']=df_final['stock_id'].astype(int)"
   ]
  },
  {
   "cell_type": "code",
   "execution_count": null,
   "id": "05736b5a",
   "metadata": {},
   "outputs": [],
   "source": [
    "df_final['stock_id']=df_final['stock_id'].astype(str)\n",
    "df_final['time_id']=df_final['time_id'].astype(str)"
   ]
  },
  {
   "cell_type": "markdown",
   "id": "1a057b6d",
   "metadata": {},
   "source": [
    "Criando um identificador que agrega o número da ação com o time_id dela"
   ]
  },
  {
   "cell_type": "code",
   "execution_count": null,
   "id": "ecd68b26",
   "metadata": {},
   "outputs": [],
   "source": [
    "df_final['id'] = 't'+df_final['time_id'] +'_st'+df_final['stock_id']"
   ]
  },
  {
   "cell_type": "markdown",
   "id": "2fd9e095",
   "metadata": {},
   "source": [
    "Abrindo o dataframe com o target e criando o mesmo identificador criado anteriormente para juntar os dataframes"
   ]
  },
  {
   "cell_type": "code",
   "execution_count": null,
   "id": "350333c1",
   "metadata": {},
   "outputs": [],
   "source": [
    "df_target=pd.read_csv(r'C:\\Users\\guede\\projetos\\Projeto 3 - Volatilidade/train.csv')\n",
    "df_target"
   ]
  },
  {
   "cell_type": "code",
   "execution_count": null,
   "id": "6a27bc2e",
   "metadata": {},
   "outputs": [],
   "source": [
    "df_target['stock_id']=df_target['stock_id'].astype(str)\n",
    "df_target['time_id']=df_target['time_id'].astype(str)"
   ]
  },
  {
   "cell_type": "code",
   "execution_count": null,
   "id": "28126c13",
   "metadata": {},
   "outputs": [],
   "source": [
    "df_target['id'] = 't'+df_target['time_id'] +'_st'+df_target['stock_id']"
   ]
  },
  {
   "cell_type": "markdown",
   "id": "e9fdd914",
   "metadata": {},
   "source": [
    "Agregando os dataframes"
   ]
  },
  {
   "cell_type": "code",
   "execution_count": null,
   "id": "5d9796e2",
   "metadata": {},
   "outputs": [],
   "source": [
    "df_merge = pd.merge(df_target, df_final, on='id')"
   ]
  },
  {
   "cell_type": "code",
   "execution_count": null,
   "id": "b7d14ba0",
   "metadata": {},
   "outputs": [],
   "source": [
    "df_merge = df_merge.drop_duplicates()"
   ]
  },
  {
   "cell_type": "markdown",
   "id": "9a39cc67",
   "metadata": {},
   "source": [
    "Separando os dataframes para botar no modelo"
   ]
  },
  {
   "cell_type": "code",
   "execution_count": null,
   "id": "b1894210",
   "metadata": {},
   "outputs": [],
   "source": [
    "df_target_new = df_merge[['stock_id_x', 'time_id_x', 'target']]\n",
    "df_prep_new = df_merge[['time_id_y',\n",
    "       'wap_std', 'wap_mean', 'wap_max_min', 'wap2_std', 'wap2_mean',\n",
    "       'wap2_max_min', 'seconds_in_bucket_std', 'seconds_in_bucket_mean',\n",
    "       'seconds_in_bucket_max_min', 'log_return_ask_std',\n",
    "       'log_return_ask_mean', 'log_return_ask_max_min', 'log_return_bid_std',\n",
    "       'log_return_bid_mean', 'log_return_bid_max_min', 'log_ask_div_bid_std',\n",
    "       'log_ask_div_bid_mean', 'log_ask_div_bid_max_min',\n",
    "       'log_vol_ask_div_bid_std', 'log_vol_ask_div_bid_mean',\n",
    "       'log_vol_ask_div_bid_max_min', 'log_ask_div_ask_std',\n",
    "       'log_ask_div_ask_mean', 'log_ask_div_ask_max_min',\n",
    "       'log_bid_div_bid_std', 'log_bid_div_bid_mean',\n",
    "       'log_bid_div_bid_max_min', 'log_vol_ask_div_ask_std',\n",
    "       'log_vol_ask_div_ask_mean', 'log_vol_ask_div_ask_max_min',\n",
    "       'log_vol_bid_div_bid_std', 'log_vol_bid_div_bid_mean',\n",
    "       'log_vol_bid_div_bid_max_min', 'acima/abaixo media_sum', 'tend_vol_sum',\n",
    "       'intervalo_bucket_std', 'intervalo_bucket_mean',\n",
    "       'intervalo_bucket_max_min', 'price*size/order_count*intervalo_std',\n",
    "       'price*size/order_count*intervalo_mean',\n",
    "       'price*size/order_count*intervalo_max_min', 'size/order_count_std',\n",
    "       'size/order_count_mean']]"
   ]
  },
  {
   "cell_type": "code",
   "execution_count": null,
   "id": "3b295dfc",
   "metadata": {},
   "outputs": [],
   "source": [
    "df_target_new=df_target_new.rename(columns = {'stock_id_x': 'stock_id', 'time_id_x':'time_id'})\n",
    "df_prep_new = df_prep_new.rename( columns={ 'time_id_y':'time_id'})"
   ]
  },
  {
   "cell_type": "markdown",
   "id": "3e153945",
   "metadata": {},
   "source": [
    "# Aplicação do modelo "
   ]
  },
  {
   "cell_type": "code",
   "execution_count": null,
   "id": "293b5e73",
   "metadata": {},
   "outputs": [],
   "source": [
    "target,rmspe,grid_fit,final_list = modelo(df_prep_new,df_target_new)"
   ]
  },
  {
   "cell_type": "code",
   "execution_count": null,
   "id": "06b1eb95",
   "metadata": {},
   "outputs": [],
   "source": [
    "rmspe"
   ]
  },
  {
   "cell_type": "markdown",
   "id": "dd08f97e",
   "metadata": {},
   "source": [
    "Exportando o dataframe para salvar as informações"
   ]
  },
  {
   "cell_type": "code",
   "execution_count": null,
   "id": "80a99124",
   "metadata": {},
   "outputs": [],
   "source": [
    "target = pd.read_csv(r'./Projeto 3 - Volatilidade/target_final.csv')\n",
    "target"
   ]
  },
  {
   "cell_type": "markdown",
   "id": "d53e319d",
   "metadata": {},
   "source": [
    "Abrindo a biblioteca Shap e utilizando as funções para visualização "
   ]
  },
  {
   "cell_type": "code",
   "execution_count": null,
   "id": "b3dc5cfa",
   "metadata": {},
   "outputs": [],
   "source": [
    "import shap"
   ]
  },
  {
   "cell_type": "code",
   "execution_count": null,
   "id": "adbbb859",
   "metadata": {},
   "outputs": [],
   "source": [
    "explainer = shap.KernelExplainer(model = params.predict, data =df_prep_new[:428]  ,link = \"identity\")"
   ]
  },
  {
   "cell_type": "code",
   "execution_count": null,
   "id": "12cb05b9",
   "metadata": {},
   "outputs": [],
   "source": [
    "X,y = (df_prep_new[final_list][:428] , df_target_new['pred_boosting'][:428])\n",
    "explainer = shap.TreeExplainer(params)\n",
    "shap_values = explainer.shap_values(X)\n"
   ]
  },
  {
   "cell_type": "code",
   "execution_count": null,
   "id": "b8015ed3",
   "metadata": {},
   "outputs": [],
   "source": [
    "# visualize the first prediction's explanation\n",
    "shap.initjs()\n",
    "shap.force_plot(explainer.expected_value, shap_values[0,:], X.iloc[0,:])"
   ]
  },
  {
   "cell_type": "code",
   "execution_count": null,
   "id": "3dbdef6f",
   "metadata": {},
   "outputs": [],
   "source": [
    "shap.force_plot(explainer.expected_value, shap_values, X)"
   ]
  },
  {
   "cell_type": "code",
   "execution_count": null,
   "id": "8f2765df",
   "metadata": {},
   "outputs": [],
   "source": [
    "shap.summary_plot(shap_values, X)"
   ]
  },
  {
   "cell_type": "markdown",
   "id": "8446b031",
   "metadata": {},
   "source": [
    "Visualização da dependência de cada uma das variáveis"
   ]
  },
  {
   "cell_type": "code",
   "execution_count": null,
   "id": "98e0db01",
   "metadata": {},
   "outputs": [],
   "source": [
    "shap.dependence_plot(\"intervalo_bucket_std\", shap_values, X)"
   ]
  },
  {
   "cell_type": "markdown",
   "id": "845cba9e",
   "metadata": {},
   "source": [
    "## Avaliando os erros individuais "
   ]
  },
  {
   "cell_type": "code",
   "execution_count": null,
   "id": "7f44da1e",
   "metadata": {},
   "outputs": [],
   "source": [
    "def rmspe_stock_id(df):\n",
    "    lista=[]\n",
    "    lista_id =[]\n",
    "    for i in df['stock_id'].unique():\n",
    "        df_use= df[df['stock_id']==i]\n",
    "        rmspe = (np.sqrt(np.mean(np.square((df_use[\"target\"] - df_use[\"pred_boosting\"]) / df_use[\"target\"]))))\n",
    "        lista.append(rmspe)\n",
    "        lista_id.append(i)\n",
    "    return lista,lista_id"
   ]
  },
  {
   "cell_type": "code",
   "execution_count": null,
   "id": "e9090b32",
   "metadata": {},
   "outputs": [],
   "source": [
    "lista_rmspe,lista_id=rmspe_stock_id(df_target_new)"
   ]
  },
  {
   "cell_type": "code",
   "execution_count": null,
   "id": "bf90b955",
   "metadata": {},
   "outputs": [],
   "source": [
    "df_rmspe = pd.DataFrame({'Stock_id':lista_id,'RMSPE':lista_rmspe})\n",
    "df_rmspe.sort_values('RMSPE',ascending = True)"
   ]
  }
 ],
 "metadata": {
  "kernelspec": {
   "display_name": "Python 3",
   "language": "python",
   "name": "python3"
  },
  "language_info": {
   "codemirror_mode": {
    "name": "ipython",
    "version": 3
   },
   "file_extension": ".py",
   "mimetype": "text/x-python",
   "name": "python",
   "nbconvert_exporter": "python",
   "pygments_lexer": "ipython3",
   "version": "3.8.8"
  }
 },
 "nbformat": 4,
 "nbformat_minor": 5
}
