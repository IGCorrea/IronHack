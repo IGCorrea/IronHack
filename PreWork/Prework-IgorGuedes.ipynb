{
 "cells": [
  {
   "cell_type": "code",
   "execution_count": 52,
   "id": "e88644fd",
   "metadata": {},
   "outputs": [
    {
     "name": "stdout",
     "output_type": "stream",
     "text": [
      "<class 'float'>\n",
      "<class 'str'>\n",
      "<class 'str'>\n",
      "<class 'bool'>\n",
      "<class 'str'>\n",
      "<class 'int'>\n"
     ]
    }
   ],
   "source": [
    "# Exercise Variables\n",
    "x1 = 1.1\n",
    "x2 = \"IronHack\"\n",
    "x3 = \"1.1\"\n",
    "x4 = True\n",
    "x5 = \"True\"\n",
    "x6 = -1\n",
    "\n",
    "\n",
    "print (type(x1))\n",
    "\n",
    "print (type(x2))\n",
    "\n",
    "print(type(x3))\n",
    "\n",
    "print (type(x4))\n",
    "\n",
    "print(type(x5))\n",
    "\n",
    "print (type(x6))\n"
   ]
  },
  {
   "cell_type": "code",
   "execution_count": 53,
   "id": "015608a1",
   "metadata": {},
   "outputs": [],
   "source": [
    "#1.2 What is the difference between variables x1 and x3?\n",
    "\n",
    "# x1 is a float, and x3 is a string, because it is between double quotes\n",
    "\n",
    "#1.3 What is the difference between variables x4 and x5?\n",
    "# x4 is a boolean, and x5 is a string, because it is between double quotes\n"
   ]
  },
  {
   "cell_type": "code",
   "execution_count": 54,
   "id": "8ff57117",
   "metadata": {},
   "outputs": [
    {
     "name": "stdout",
     "output_type": "stream",
     "text": [
      "12 is greater than 5\n",
      "x7 exp: 162754.79141900392\n",
      "12 elevado a  19.0 = x10 = 3.194799993706229e+20\n",
      "raiz quadrada de x10 =  17874003451.11925\n"
     ]
    }
   ],
   "source": [
    "# Operators\n",
    "import math\n",
    "x7 = input(\"Please enter a integer number \")\n",
    "x8 = input(\"Please enter another integer number\")\n",
    "\n",
    "x7 = int(x7)\n",
    "x8 = int(x8)\n",
    "\n",
    "if (x7) == (x8):\n",
    "    print(x7, \"is equals\", x8)\n",
    "if (x7) >(x8):\n",
    "    print(x7, \"is greater than\", x8)\n",
    "if (x7) <(x8):\n",
    "    print(x7, \"is lower than\", x8)\n",
    " \n",
    "x9 = math.fabs((x7) - (x8))\n",
    "\n",
    "if (x7) > (x8):\n",
    "    x8= (x7) + (x9)\n",
    "else:\n",
    "    x7= (x8) + (x9)\n",
    "\n",
    "\n",
    "if (x7) == (x8 ):\n",
    "    print(x7, \"is equals\", x8)\n",
    "\n",
    "print (\"x7 exp:\",math.exp(x7))\n",
    "print (x7,\"elevado a \", x8, \"= x10 =\",math.pow(x7,x8))\n",
    "print (\"raiz quadrada de x10 = \", math.sqrt(math.pow(x7,x8)))\n",
    "\n",
    "\n"
   ]
  },
  {
   "cell_type": "code",
   "execution_count": null,
   "id": "669c9e35",
   "metadata": {},
   "outputs": [],
   "source": []
  },
  {
   "cell_type": "code",
   "execution_count": null,
   "id": "2c28b1b8",
   "metadata": {},
   "outputs": [],
   "source": []
  },
  {
   "cell_type": "code",
   "execution_count": null,
   "id": "bca87c14",
   "metadata": {},
   "outputs": [],
   "source": []
  }
 ],
 "metadata": {
  "kernelspec": {
   "display_name": "Python 3",
   "language": "python",
   "name": "python3"
  },
  "language_info": {
   "codemirror_mode": {
    "name": "ipython",
    "version": 3
   },
   "file_extension": ".py",
   "mimetype": "text/x-python",
   "name": "python",
   "nbconvert_exporter": "python",
   "pygments_lexer": "ipython3",
   "version": "3.8.10"
  }
 },
 "nbformat": 4,
 "nbformat_minor": 5
}
