{
 "cells": [
  {
   "cell_type": "markdown",
   "id": "13b7e1b0",
   "metadata": {},
   "source": [
    "# Importando Bibliotecas"
   ]
  },
  {
   "cell_type": "code",
   "execution_count": null,
   "id": "518c2fa6",
   "metadata": {},
   "outputs": [],
   "source": [
    "import pandas as pd\n",
    "import requests\n",
    "import re\n",
    "import time\n",
    "from tqdm.notebook import tqdm\n",
    "import numpy as np\n",
    "from datetime import date\n",
    "from datetime import timedelta\n",
    "from selenium import webdriver\n",
    "from selenium.webdriver.chrome.service import Service\n",
    "from webdriver_manager.chrome import ChromeDriverManager\n",
    "from selenium.webdriver.common.by import By\n",
    "from selenium.webdriver.common.keys import Keys\n",
    "from selenium.webdriver.common.action_chains import ActionChains"
   ]
  },
  {
   "cell_type": "markdown",
   "id": "676f76d9",
   "metadata": {},
   "source": [
    "# Lista dos Criadores"
   ]
  },
  {
   "cell_type": "code",
   "execution_count": null,
   "id": "ae49cb32",
   "metadata": {},
   "outputs": [],
   "source": [
    "# Importando lista dos criadores com maior volume [eth] no opensea nos ultimos  7 dias \n",
    "s = Service(ChromeDriverManager().install())\n",
    "driver = webdriver.Chrome(service=s)\n",
    "driver.implicitly_wait(1.5)\n",
    "driver.get('https://www.finder.com.au/cryptocurrency/nft-collections')"
   ]
  },
  {
   "cell_type": "code",
   "execution_count": null,
   "id": "91d69d2e",
   "metadata": {},
   "outputs": [],
   "source": [
    "link_html = driver.find_element(By.XPATH,'''//*[@id=\"main\"]/div[4]/div[2]/div[2]/div/div[2]/ul/li[2]/a''')\n",
    "link_html.click()"
   ]
  },
  {
   "cell_type": "code",
   "execution_count": null,
   "id": "39db5e30",
   "metadata": {},
   "outputs": [],
   "source": [
    "driver.find_element(By.XPATH, f'''//*[@id=\"pb-tabname1\"]/div/table/tbody/tr[1]/td[4]''').text"
   ]
  },
  {
   "cell_type": "code",
   "execution_count": null,
   "id": "f8c85d1a",
   "metadata": {},
   "outputs": [],
   "source": [
    "lista_name = []\n",
    "lista_sales =[]\n",
    "lista_volume =[]\n",
    "\n",
    "\n",
    "for i in range(1,26):\n",
    "    lista_name.append(driver.find_element(By.XPATH, f'''//*[@id=\"pb-tabname1\"]/div/table/tbody/tr[{i}]/td[2]/div/a''').text)\n",
    "    lista_sales.append(driver.find_element(By.XPATH, f'''//*[@id=\"pb-tabname1\"]/div/table/tbody/tr[{i}]/td[3]''').text)\n",
    "    lista_volume.append(re.sub(' [A-Z]+','',driver.find_element(By.XPATH, f'''//*[@id=\"pb-tabname1\"]/div/table/tbody/tr[{i}]/td[4]''').text))"
   ]
  },
  {
   "cell_type": "code",
   "execution_count": null,
   "id": "69687c82",
   "metadata": {},
   "outputs": [],
   "source": [
    "## Visualização daos 25 primeiros criadores da lista "
   ]
  },
  {
   "cell_type": "code",
   "execution_count": null,
   "id": "df0f5ff1",
   "metadata": {},
   "outputs": [],
   "source": [
    "df = pd.DataFrame({'creator':lista_name , 'sales':lista_sales, 'volume [ETH]':lista_volume} )\n",
    "df"
   ]
  },
  {
   "cell_type": "markdown",
   "id": "38204bac",
   "metadata": {},
   "source": [
    "# Extração dos Dados\n"
   ]
  },
  {
   "cell_type": "code",
   "execution_count": null,
   "id": "7642bb7f",
   "metadata": {},
   "outputs": [],
   "source": [
    "#Determinando o periodo de retirada de dados\n",
    "current_date = date.today().isoformat()   \n",
    "days_before = (date.today()-timedelta(days=7)).isoformat()"
   ]
  },
  {
   "cell_type": "code",
   "execution_count": null,
   "id": "822a8c62",
   "metadata": {},
   "outputs": [],
   "source": [
    "#Criando as listas para o dataframe\n",
    "lista_address_aux1 = []\n",
    "lista_creators1 = []\n",
    "lista_tokenid1 = []\n",
    "lista_price1 = []\n",
    "lista_block1 = []\n",
    "lista_block_minter1 = []\n",
    "lista_contract1 = []\n"
   ]
  },
  {
   "cell_type": "code",
   "execution_count": null,
   "id": "ac268f31",
   "metadata": {
    "scrolled": true
   },
   "outputs": [],
   "source": [
    "# Looping para extração dos dados\n",
    "for i in lista_name:\n",
    "    driver.get('https://opensea.io/')\n",
    "    driver.implicitly_wait(10)\n",
    "    time.sleep(2)\n",
    "    buscador = driver.find_element(By.XPATH, '''//*[@id=\"__next\"]/div/div[1]/nav/div[2]/div/div/div/input''')\n",
    "    buscador.send_keys(i)\n",
    "    time.sleep(2)\n",
    "    primeiro_item = driver.find_element(By.XPATH,f'''//*[contains(text(),'{i}')]''')\n",
    "    primeiro_item.click()\n",
    "    time.sleep(3)\n",
    "    primeiro_nft = driver.find_element(By.XPATH,'''//*[@id=\"main\"]/div/div/div[3]/div/div/div/div[3]/div[3]/div[2]/div/div/div[1]/div/article/a/div[2]''')\n",
    "    primeiro_nft.click()\n",
    "    address = driver.current_url\n",
    "    contract = re.findall('[0-9]\\w+',address)\n",
    "    \n",
    "    \n",
    "    endpoint = f'https://deep-index.moralis.io/api/v2/nft/{contract[0]}/trades'\n",
    "    query = {'chain':'eth','marketplace':'opensea','from_date':f'{days_before}','to_date':f'{current_date}'}\n",
    "    header = {'accept' : 'application/json', 'X-API-Key' : 'zI2h59sDw8RlpIkIierrdsqUJVD8GvU3bu6UcxwvI4NQLBoj1qazAqSf0ugb6iZa'}\n",
    "    resposta = requests.request('GET', endpoint, headers=header, params=query)\n",
    "    resultados = resposta.json()\n",
    "    time.sleep(3)\n",
    "    for items in resultados['result']:\n",
    "        lista_tokenid1.append(items['token_ids'][0])\n",
    "        \n",
    "        lista_block1.append(items['block_number'])\n",
    "        lista_address_aux1.append(contract[0])\n",
    "        lista_creators1.append(i)\n",
    "        transaction_hash = items['transaction_hash']\n",
    "        driver.get('https://etherscan.io/')\n",
    "        time.sleep(1)\n",
    "        buscador1 = driver.find_element(By.XPATH,'''//*[@id=\"txtSearchInput\"]''')\n",
    "        buscador1.send_keys(transaction_hash)\n",
    "        buscador1.send_keys(Keys.ENTER)\n",
    "        time.sleep(1)\n",
    "        try:\n",
    "            preco = driver.find_element(By.XPATH,'''//*[@id=\"wrapperContent\"]/li/div/span[4]''')\n",
    "            lista_price1.append(preco.text)\n",
    "            moeda = driver.find_element(By.XPATH,'''//*[@id=\"wrapperContent\"]/li/div/a''')\n",
    "        except NoSuchElementException:\n",
    "            preco = driver.find_element(By.XPATH,'''//*[@id=\"ContentPlaceHolder1_spanValue\"]/span''')\n",
    "            lista_price1.append(preco.text)\n",
    "            \n",
    "        endpoint2 = f\"https://deep-index.moralis.io/api/v2/nft/{contract[0]}/{items['token_ids'][0]}\"\n",
    "        query2 = {'chain':'eth', 'format':'decimal'}\n",
    "        header2 = {'accept' : 'application/json', 'X-API-Key' : 'zI2h59sDw8RlpIkIierrdsqUJVD8GvU3bu6UcxwvI4NQLBoj1qazAqSf0ugb6iZa'}\n",
    "        response = requests.request('GET', endpoint2, headers=header2, params=query2)\n",
    "        results = response.json()\n",
    "        try:\n",
    "            lista_block_minter1.append(results['block_number_minted'])\n",
    "        except :\n",
    "            lista_block_minter1.append(np.nan)\n",
    "        try:\n",
    "            lista_contract1.append(results['contract_type'])\n",
    "        except :\n",
    "            lista_contract1.append(np.nan)"
   ]
  },
  {
   "cell_type": "code",
   "execution_count": null,
   "id": "6213704f",
   "metadata": {
    "scrolled": true
   },
   "outputs": [],
   "source": [
    "#Criando DataFrame\n",
    "df1 = pd.DataFrame({'Criador':lista_creators1, 'Contract Address':lista_address_aux1, 'Token Id': lista_tokenid1,'Preço[ETH]' :lista_price1,'Block Chain': lista_block1})"
   ]
  },
  {
   "cell_type": "code",
   "execution_count": null,
   "id": "68078ea2",
   "metadata": {},
   "outputs": [],
   "source": [
    "# Tirando linhas duplicadas\n",
    "df_nft = df1.drop_duplicates()\n",
    "df_nft"
   ]
  },
  {
   "cell_type": "markdown",
   "id": "61fdd5e9",
   "metadata": {},
   "source": [
    "# Exportando como CSV"
   ]
  },
  {
   "cell_type": "code",
   "execution_count": null,
   "id": "914d35d0",
   "metadata": {},
   "outputs": [],
   "source": [
    "df_nft.to_csv(r'C:\\Users\\guede\\projetos\\df_nft2.csv', sep = ';',index = False)\n"
   ]
  }
 ],
 "metadata": {
  "kernelspec": {
   "display_name": "Python 3",
   "language": "python",
   "name": "python3"
  },
  "language_info": {
   "codemirror_mode": {
    "name": "ipython",
    "version": 3
   },
   "file_extension": ".py",
   "mimetype": "text/x-python",
   "name": "python",
   "nbconvert_exporter": "python",
   "pygments_lexer": "ipython3",
   "version": "3.8.8"
  }
 },
 "nbformat": 4,
 "nbformat_minor": 5
}
