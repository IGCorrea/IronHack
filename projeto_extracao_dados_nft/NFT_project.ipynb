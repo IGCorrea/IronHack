{
 "cells": [
  {
   "cell_type": "markdown",
   "id": "b9849b03",
   "metadata": {},
   "source": [
    "# Importando bibliotecas"
   ]
  },
  {
   "cell_type": "code",
   "execution_count": null,
   "id": "f156ed08",
   "metadata": {},
   "outputs": [],
   "source": [
    "import pandas as pd\n",
    "import requests\n",
    "import re\n",
    "import time\n",
    "from selenium import webdriver\n",
    "from selenium.webdriver.chrome.service import Service\n",
    "from webdriver_manager.chrome import ChromeDriverManager\n",
    "from selenium.webdriver.common.by import By\n",
    "from selenium.webdriver.common.keys import Keys\n",
    "from selenium.webdriver.common.action_chains import ActionChains"
   ]
  },
  {
   "cell_type": "markdown",
   "id": "da6b2092",
   "metadata": {},
   "source": [
    "# Lista dos criadores\n",
    " Utilizando a biblioteca Selenium para acessar a lista dos 50 criadores com maior volume de vendas no período de 7 dias"
   ]
  },
  {
   "cell_type": "code",
   "execution_count": null,
   "id": "2ec73fe6",
   "metadata": {},
   "outputs": [],
   "source": [
    "s = Service(ChromeDriverManager().install())\n",
    "driver = webdriver.Chrome(service=s)\n",
    "driver.implicitly_wait(1.5)\n",
    "driver.get('https://www.finder.com.au/cryptocurrency/nft-collections')"
   ]
  },
  {
   "cell_type": "code",
   "execution_count": null,
   "id": "5c0731a3",
   "metadata": {},
   "outputs": [],
   "source": [
    "link_html = driver.find_element(By.XPATH,'''//*[@id=\"main\"]/div[4]/div[2]/div[2]/div/div[2]/ul/li[3]/a''')"
   ]
  },
  {
   "cell_type": "code",
   "execution_count": null,
   "id": "30317a60",
   "metadata": {},
   "outputs": [],
   "source": [
    "link_html.click()"
   ]
  },
  {
   "cell_type": "code",
   "execution_count": null,
   "id": "19fd6270",
   "metadata": {},
   "outputs": [],
   "source": [
    "lista_name = []\n",
    "lista_sales =[]\n",
    "lista_volume =[]\n",
    "for i in range(1,26):\n",
    "    lista_name.append(driver.find_element(By.XPATH, f'''//*[@id=\"pb-tabname2\"]/div/table/tbody/tr[{i}]/td[2]''').text)\n",
    "    lista_sales.append(driver.find_element(By.XPATH, f'''//*[@id=\"pb-tabname2\"]/div/table/tbody/tr[{i}]/td[3]''').text)\n",
    "    lista_volume.append(re.sub(' [A-Z]+','',driver.find_element(By.XPATH, f'''//*[@id=\"pb-tabname2\"]/div/table/tbody/tr[{i}]/td[4]''').text))"
   ]
  },
  {
   "cell_type": "markdown",
   "id": "d10b88fd",
   "metadata": {},
   "source": [
    "Criando o DataFrame com as informações dos criadores com o volume de negociações em quantidade de vendas e em Ethereum"
   ]
  },
  {
   "cell_type": "code",
   "execution_count": null,
   "id": "9bec21dc",
   "metadata": {},
   "outputs": [],
   "source": [
    "df1 = pd.DataFrame({'creator':lista_name , 'sales':lista_sales, 'volume [ETH]':lista_volume} )"
   ]
  },
  {
   "cell_type": "code",
   "execution_count": null,
   "id": "a9bd0183",
   "metadata": {},
   "outputs": [],
   "source": [
    "df1"
   ]
  },
  {
   "cell_type": "markdown",
   "id": "0b890b11",
   "metadata": {},
   "source": [
    "# DataFrame vendas discretizadas\n"
   ]
  },
  {
   "cell_type": "markdown",
   "id": "f3e58099",
   "metadata": {},
   "source": [
    "Criando listas para armazenar os dados"
   ]
  },
  {
   "cell_type": "code",
   "execution_count": null,
   "id": "23f434d5",
   "metadata": {},
   "outputs": [],
   "source": [
    "lista_address_aux1 = []\n",
    "lista_creators1 = []\n",
    "lista_tokenid1 = []\n",
    "lista_price1 = []\n",
    "lista_block1 = []\n",
    "lista_block_minter1 = []\n",
    "lista_contract1 = []"
   ]
  },
  {
   "cell_type": "markdown",
   "id": "c327d2a4",
   "metadata": {},
   "source": [
    "Looping utilizando a lista obtida anteriormente, com auxilio de Webscrapping e API para extrair os dados em formato de lista para posteriormente criar o DataFrame"
   ]
  },
  {
   "cell_type": "code",
   "execution_count": null,
   "id": "4ad289e6",
   "metadata": {
    "scrolled": true
   },
   "outputs": [],
   "source": [
    "for i in lista_name:\n",
    "    driver = webdriver.Chrome(service=s)\n",
    "    driver.implicitly_wait(5)\n",
    "    driver.get('https://opensea.io/')\n",
    "    driver.implicitly_wait(10)\n",
    "    buscador = driver.find_element(By.XPATH, '''//*[@id=\"__next\"]/div/div[1]/nav/div[2]/div/div/div/input''')\n",
    "    buscador.send_keys(i)\n",
    "    time.sleep(5)\n",
    "    primeiro_item = driver.find_element(By.XPATH,f'''//*[contains(text(),'{i}')]''')\n",
    "    primeiro_item.click()\n",
    "    time.sleep(5)\n",
    "    primeiro_nft = driver.find_element(By.XPATH,'''//*[@id=\"main\"]/div/div/div[3]/div/div/div/div[3]/div[3]/div[2]/div/div/div[1]/div/article/a/div[2]''')\n",
    "    primeiro_nft.click()\n",
    "    address = driver.current_url\n",
    "    contract = re.findall('[0-9]\\w+',address)\n",
    "    driver.get('https://opensea.io/')\n",
    "    \n",
    "    endpoint = f'https://deep-index.moralis.io/api/v2/nft/{contract[0]}/trades'\n",
    "    query = {'chain':'eth','marketplace':'opensea','from_date':'01/04/2022','to_date':'02/04/2022'}\n",
    "    header = {'accept' : 'application/json', 'X-API-Key' : 'zI2h59sDw8RlpIkIierrdsqUJVD8GvU3bu6UcxwvI4NQLBoj1qazAqSf0ugb6iZa'}\n",
    "    resposta = requests.request('GET', endpoint, headers=header, params=query)\n",
    "    resultados = resposta.json()\n",
    "    time.sleep(10)\n",
    "    for items in resultados['result']:\n",
    "        lista_tokenid1.append(items['token_ids'][0])\n",
    "        lista_price1.append(items['price'])\n",
    "        lista_block1.append(items['block_number'])\n",
    "        lista_address_aux1.append(contract[0])\n",
    "        lista_creators1.append(i)\n",
    "        endpoint2 = f\"https://deep-index.moralis.io/api/v2/nft/{contract[0]}/{items['token_ids'][0]}\"\n",
    "        query2 = {'chain':'eth', 'format':'decimal'}\n",
    "        header2 = {'accept' : 'application/json', 'X-API-Key' : 'zI2h59sDw8RlpIkIierrdsqUJVD8GvU3bu6UcxwvI4NQLBoj1qazAqSf0ugb6iZa'}\n",
    "        response = requests.request('GET', endpoint2, headers=header2, params=query2)\n",
    "        results = response.json()\n",
    "        try:\n",
    "            lista_block_minter1.append(results['block_number_minted'])\n",
    "        except KeyError:\n",
    "            lista_block_minter1.isna()\n",
    "        try:\n",
    "            lista_contract1.append(results['contract_type'])\n",
    "        except KeyError:\n",
    "            lista_contract1.isna()\n",
    "            "
   ]
  },
  {
   "cell_type": "markdown",
   "id": "84df1f62",
   "metadata": {},
   "source": [
    "Criação do Dataframe "
   ]
  },
  {
   "cell_type": "code",
   "execution_count": null,
   "id": "95012c80",
   "metadata": {},
   "outputs": [],
   "source": [
    "df2 = pd.DataFrame({'Criador':lista_creators1, 'Contract Address':lista_address_aux1, 'Token Id': lista_tokenid1,'Preço' :lista_price1,'Block Chain': lista_block1})\n",
    "df2"
   ]
  },
  {
   "cell_type": "markdown",
   "id": "87bc77cb",
   "metadata": {},
   "source": [
    "Exportando como .csv para criação do dashboard via Tableau"
   ]
  },
  {
   "cell_type": "code",
   "execution_count": null,
   "id": "3e3b4c54",
   "metadata": {},
   "outputs": [],
   "source": [
    "df2.to_csv('C:\\Users\\guede\\projetos\\projeto_extracao_dados_nft/df_nft.csv')"
   ]
  }
 ],
 "metadata": {
  "kernelspec": {
   "display_name": "Python 3",
   "language": "python",
   "name": "python3"
  },
  "language_info": {
   "codemirror_mode": {
    "name": "ipython",
    "version": 3
   },
   "file_extension": ".py",
   "mimetype": "text/x-python",
   "name": "python",
   "nbconvert_exporter": "python",
   "pygments_lexer": "ipython3",
   "version": "3.8.8"
  }
 },
 "nbformat": 4,
 "nbformat_minor": 5
}
