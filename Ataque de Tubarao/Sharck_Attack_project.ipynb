{
 "cells": [
  {
   "cell_type": "markdown",
   "id": "454e9e1b",
   "metadata": {},
   "source": [
    "# Importando bibliotecas"
   ]
  },
  {
   "cell_type": "code",
   "execution_count": null,
   "id": "71fcf38f",
   "metadata": {},
   "outputs": [],
   "source": [
    "import pandas as pd\n",
    "import numpy as np\n",
    "import re\n",
    "import datetime"
   ]
  },
  {
   "cell_type": "markdown",
   "id": "49cea995",
   "metadata": {},
   "source": [
    "# Importando o Dataset e limpando os dados"
   ]
  },
  {
   "cell_type": "code",
   "execution_count": null,
   "id": "734121a2",
   "metadata": {},
   "outputs": [],
   "source": [
    "shark_attack = pd.read_csv('data/attacks.csv', encoding = 'latin1')"
   ]
  },
  {
   "cell_type": "markdown",
   "id": "97b82fe0",
   "metadata": {},
   "source": [
    "Obtendo informações das colunas"
   ]
  },
  {
   "cell_type": "code",
   "execution_count": null,
   "id": "b5482e75",
   "metadata": {},
   "outputs": [],
   "source": [
    "shark_attack.info()"
   ]
  },
  {
   "cell_type": "markdown",
   "id": "30c934c3",
   "metadata": {},
   "source": [
    "Verificando as colunas com poucas informações"
   ]
  },
  {
   "cell_type": "code",
   "execution_count": null,
   "id": "66fc725c",
   "metadata": {},
   "outputs": [],
   "source": [
    "print(shark_attack[shark_attack['Unnamed: 22'].notna()])\n",
    "print(shark_attack[shark_attack['Unnamed: 23'].notna()])"
   ]
  },
  {
   "cell_type": "markdown",
   "id": "fab6a24d",
   "metadata": {},
   "source": [
    "Tirando as ultimas duas colunas que não possuiam informação"
   ]
  },
  {
   "cell_type": "code",
   "execution_count": null,
   "id": "d3e32d8d",
   "metadata": {},
   "outputs": [],
   "source": [
    "filter1 = shark_attack.drop(columns = ['Unnamed: 22','Unnamed: 23'])\n",
    "filter1"
   ]
  },
  {
   "cell_type": "markdown",
   "id": "e018a35d",
   "metadata": {},
   "source": [
    "Tirar todas as linhas que possuem somente NaN"
   ]
  },
  {
   "cell_type": "code",
   "execution_count": null,
   "id": "727be497",
   "metadata": {},
   "outputs": [],
   "source": [
    "filter2 = filter1.dropna(how = 'all')"
   ]
  },
  {
   "cell_type": "markdown",
   "id": "954bc114",
   "metadata": {},
   "source": [
    "Procurando os 10 paises com mais casos"
   ]
  },
  {
   "cell_type": "code",
   "execution_count": null,
   "id": "54f5964b",
   "metadata": {},
   "outputs": [],
   "source": [
    "pais_e_data = filter2.groupby(by=['Country']).count()\n",
    "pais_e_data = pais_e_data.sort_values('Case Number', ascending=False).head(10)"
   ]
  },
  {
   "cell_type": "markdown",
   "id": "5adabc1f",
   "metadata": {},
   "source": [
    "Tirar linhas que possuem menos do que 60% das colunas completas"
   ]
  },
  {
   "cell_type": "code",
   "execution_count": null,
   "id": "d8ed0829",
   "metadata": {},
   "outputs": [],
   "source": [
    "q60=len(shark_attack.columns)*0.6 \n",
    "filter3 = filter2.dropna(thresh=q60)"
   ]
  },
  {
   "cell_type": "markdown",
   "id": "7c58c560",
   "metadata": {},
   "source": [
    "Tirando palavras da coluna de data"
   ]
  },
  {
   "cell_type": "code",
   "execution_count": null,
   "id": "93f587f9",
   "metadata": {},
   "outputs": [],
   "source": [
    "filter3['Date'] = filter3['Date'].str.replace(r'[A-z]+ ','')"
   ]
  },
  {
   "cell_type": "markdown",
   "id": "81c97f02",
   "metadata": {},
   "source": [
    "Verificando as linhas com o ano sem informação"
   ]
  },
  {
   "cell_type": "code",
   "execution_count": null,
   "id": "fc13c422",
   "metadata": {},
   "outputs": [],
   "source": [
    "filter3[filter3['Year'].isna()]"
   ]
  },
  {
   "cell_type": "markdown",
   "id": "0552a0b4",
   "metadata": {},
   "source": [
    "Preenchendo o ano de linhas que possuiam data mas no ano estava NaN"
   ]
  },
  {
   "cell_type": "code",
   "execution_count": null,
   "id": "59fb738f",
   "metadata": {},
   "outputs": [],
   "source": [
    "filter3['Year'][6079]=1836\n",
    "filter3['Year'][187]=2017"
   ]
  },
  {
   "cell_type": "markdown",
   "id": "28383a0b",
   "metadata": {},
   "source": [
    "Limpando as informaçõs da coluna Date e criando uma nova coluna com os anos a partir destas"
   ]
  },
  {
   "cell_type": "code",
   "execution_count": null,
   "id": "08d4ab05",
   "metadata": {},
   "outputs": [],
   "source": [
    "filter3['year_new']= [re.findall(r'[0-9]{4}',data) for data in filter3['Date']]\n",
    "filter3['year_new'] = [''.join(ano[-4:]) for ano in  filter3['year_new']]\n",
    "filter3['year_new'] = [ano[-4:] for ano in  filter3['year_new']]"
   ]
  },
  {
   "cell_type": "markdown",
   "id": "82bec08d",
   "metadata": {},
   "source": [
    "Transformando a coluna do Ano em inteiros e verificando se ainda possuiam valores não preenchidos ou errados. Vai dar erro ao rodar o codigo e a partir deste erro, é feita a correção nas seguintes linhas do código"
   ]
  },
  {
   "cell_type": "code",
   "execution_count": null,
   "id": "b6130a9b",
   "metadata": {},
   "outputs": [],
   "source": [
    "filter3['year_new'].astype(int)"
   ]
  },
  {
   "cell_type": "markdown",
   "id": "46ebfd47",
   "metadata": {},
   "source": [
    "Olhando as linhas nas quais os valores da coluna do Ano são vazias "
   ]
  },
  {
   "cell_type": "code",
   "execution_count": null,
   "id": "10e3e85d",
   "metadata": {},
   "outputs": [],
   "source": [
    "filter3[filter3['year_new']=='']"
   ]
  },
  {
   "cell_type": "markdown",
   "id": "6e94ff2a",
   "metadata": {},
   "source": [
    "Preenchendo manualmente as colunas que possuiam a informação do ano porém em outra coluna"
   ]
  },
  {
   "cell_type": "code",
   "execution_count": null,
   "id": "42081c4e",
   "metadata": {},
   "outputs": [],
   "source": [
    "filter3['year_new'][4644]=1944\n",
    "filter3['year_new'][4802]=1939\n",
    "filter3['year_new'][4838]=1937"
   ]
  },
  {
   "cell_type": "markdown",
   "id": "231b47e1",
   "metadata": {},
   "source": [
    "Tirando as colunas que não possuiam informações suficientes para preencher o Ano"
   ]
  },
  {
   "cell_type": "code",
   "execution_count": null,
   "id": "a3b92b15",
   "metadata": {},
   "outputs": [],
   "source": [
    "filter4= filter3.drop(filter3[filter3['year_new']==''].index)"
   ]
  },
  {
   "cell_type": "markdown",
   "id": "e7514a0c",
   "metadata": {},
   "source": [
    "Transformando a coluna do Ano em inteiros e verificando se ainda possuiam valores não preenchidos ou errados"
   ]
  },
  {
   "cell_type": "code",
   "execution_count": null,
   "id": "f0a7c1ba",
   "metadata": {},
   "outputs": [],
   "source": [
    "filter4['year_new'] = filter4['year_new'].astype(int)"
   ]
  },
  {
   "cell_type": "markdown",
   "id": "8a300c54",
   "metadata": {},
   "source": [
    "Criando um dataframe so com os casos no EUA porque é o pais com mais relatos"
   ]
  },
  {
   "cell_type": "code",
   "execution_count": null,
   "id": "615b0c7b",
   "metadata": {},
   "outputs": [],
   "source": [
    "dataframe_USA = filter4[filter4['Country'].eq('USA')]"
   ]
  },
  {
   "cell_type": "markdown",
   "id": "c40451e0",
   "metadata": {},
   "source": [
    "Filtrar acima do ano de 1950"
   ]
  },
  {
   "cell_type": "code",
   "execution_count": null,
   "id": "4c94ba17",
   "metadata": {},
   "outputs": [],
   "source": [
    "dataframe_USA_gt1950 =dataframe_USA[dataframe_USA['year_new']>1950]\n",
    "dataframe_USA_gt1950"
   ]
  },
  {
   "cell_type": "markdown",
   "id": "311dafbe",
   "metadata": {},
   "source": [
    "Verificando o somátorio de casos por ano"
   ]
  },
  {
   "cell_type": "code",
   "execution_count": null,
   "id": "7687c3f7",
   "metadata": {},
   "outputs": [],
   "source": [
    "dataframe_USA_gt1950_year = dataframe_USA_gt1950.groupby(by=['year_new']).count()\n",
    "dataframe_USA_gt1950_year\n",
    "sum(dataframe_USA_gt1950_year['Case Number'])"
   ]
  },
  {
   "cell_type": "markdown",
   "id": "0cafecfc",
   "metadata": {},
   "source": [
    "Criando novo dataframe para verificar o maior numero de casos por ano"
   ]
  },
  {
   "cell_type": "code",
   "execution_count": null,
   "id": "800df4aa",
   "metadata": {},
   "outputs": [],
   "source": [
    "dataframe_USA_filtrado = dataframe_USA_gt1950.loc[:,['year_new','Country','Area','Activity']]\n",
    "dataframe_USA_groupby = dataframe_USA_filtrado.groupby(by=['year_new']).count()\n",
    "dataframe_USA_groupby['Casos'] = np.where(dataframe_USA_groupby['Country']>dataframe_USA_groupby['Area'],dataframe_USA_groupby['Country'],np.where(dataframe_USA_groupby['Area']>dataframe_USA_groupby['Activity'],dataframe_USA_groupby['Area'],dataframe_USA_groupby['Activity']))\n",
    "dataframe_USA_groupby = dataframe_USA_groupby.reset_index()"
   ]
  },
  {
   "cell_type": "markdown",
   "id": "e8ab8429",
   "metadata": {},
   "source": [
    "Criando um segundo dataframe para conseguir fazer operação entre eles e obter a taxa por ano"
   ]
  },
  {
   "cell_type": "code",
   "execution_count": null,
   "id": "2ef4fe31",
   "metadata": {},
   "outputs": [],
   "source": [
    "dataframe_USA_gt1949 =dataframe_USA[dataframe_USA['year_new']<=2017]\n",
    "dataframe_USA_gt1949 =dataframe_USA_gt1949[dataframe_USA_gt1949['year_new']>1949]\n",
    "dataframe_USA_filtrado2 = dataframe_USA_gt1949.loc[:,['year_new','Country','Area','Activity']]\n",
    "dataframe_USA_groupby2 = dataframe_USA_filtrado2.groupby(by=['year_new']).count()\n",
    "dataframe_USA_groupby2['Casos'] = np.where(dataframe_USA_groupby2['Country']>dataframe_USA_groupby2['Area'],dataframe_USA_groupby2['Country'],np.where(dataframe_USA_groupby2['Area']>dataframe_USA_groupby2['Activity'],dataframe_USA_groupby2['Area'],dataframe_USA_groupby2['Activity']))\n",
    "dataframe_USA_groupby2 = dataframe_USA_groupby2.reset_index()"
   ]
  },
  {
   "cell_type": "markdown",
   "id": "baeb92d6",
   "metadata": {},
   "source": [
    "Criando a coluna da taxa de crescimento de ataques de tubarao nos EUA"
   ]
  },
  {
   "cell_type": "code",
   "execution_count": null,
   "id": "6f70cee6",
   "metadata": {},
   "outputs": [],
   "source": [
    "dataframe_USA_groupby['Variação Ano a Ano dos Ataques de Tubarão']= (dataframe_USA_groupby['Casos'] - dataframe_USA_groupby2['Casos'])/dataframe_USA_groupby2['Casos']"
   ]
  },
  {
   "cell_type": "code",
   "execution_count": null,
   "id": "84e463ae",
   "metadata": {},
   "outputs": [],
   "source": [
    "dataframe_USA_groupby"
   ]
  },
  {
   "cell_type": "code",
   "execution_count": null,
   "id": "30b09340",
   "metadata": {},
   "outputs": [],
   "source": [
    "dataframe_USA_groupby.plot(x='year_new',y= ['Casos'])"
   ]
  },
  {
   "cell_type": "markdown",
   "id": "cbae1dc4",
   "metadata": {},
   "source": [
    "Obtendo o primeiro gráfico para visualizar melhor os resultados"
   ]
  },
  {
   "cell_type": "code",
   "execution_count": null,
   "id": "0fb75247",
   "metadata": {},
   "outputs": [],
   "source": [
    "dataframe_USA_groupby.plot(x='year_new',y= ['Variação Ano a Ano dos Ataques de Tubarão']) "
   ]
  },
  {
   "cell_type": "markdown",
   "id": "b93e4c4e",
   "metadata": {},
   "source": [
    "Limpando e renomeando as colunas"
   ]
  },
  {
   "cell_type": "code",
   "execution_count": null,
   "id": "805bafc6",
   "metadata": {},
   "outputs": [],
   "source": [
    "dataframe_USA_groupby['Ano'] = dataframe_USA_groupby['year_new']\n",
    "dataframe_USA_groupby_final = dataframe_USA_groupby.drop(columns = ['Country','Activity','Area','Ano'])\n",
    "dataframe_USA_groupby_final = dataframe_USA_groupby_final.rename(columns={'year_new':'Ano'})"
   ]
  },
  {
   "cell_type": "markdown",
   "id": "901b443d",
   "metadata": {},
   "source": [
    "Dataframe final baseado no numero de casos e a taxa de crescimento dos ataques"
   ]
  },
  {
   "cell_type": "code",
   "execution_count": null,
   "id": "695695b6",
   "metadata": {},
   "outputs": [],
   "source": [
    "dataframe_USA_groupby_final"
   ]
  },
  {
   "cell_type": "markdown",
   "id": "24fa246a",
   "metadata": {},
   "source": [
    "# Importando e selecionando o numero de linhas do dataframe com a taxa de crescimento da populaçao dos EUA"
   ]
  },
  {
   "cell_type": "code",
   "execution_count": null,
   "id": "f2790c18",
   "metadata": {},
   "outputs": [],
   "source": [
    "crescimento_pop_usa = pd.read_excel('data/populacaoUSA.xlsx')\n",
    "crescimento_pop_usa1 =crescimento_pop_usa.drop(crescimento_pop_usa.index[[68,69,70]]) \n",
    "crescimento_pop_usa1"
   ]
  },
  {
   "cell_type": "markdown",
   "id": "b7445428",
   "metadata": {},
   "source": [
    "Adicionando a coluna da taxa de crescimento da populaçao americana ao dataframe com as informações dos ataques"
   ]
  },
  {
   "cell_type": "code",
   "execution_count": null,
   "id": "f270297d",
   "metadata": {},
   "outputs": [],
   "source": [
    "dataframe_USA_groupby_final['Taxa de crescimento populacao EUA']= crescimento_pop_usa1[['Taxa de crescimento']]\n",
    "dataframe_USA_groupby_final"
   ]
  },
  {
   "cell_type": "markdown",
   "id": "44896653",
   "metadata": {},
   "source": [
    "Limpando a coluna com os dados da taxa de crescimento da população americana"
   ]
  },
  {
   "cell_type": "code",
   "execution_count": null,
   "id": "2c813e15",
   "metadata": {},
   "outputs": [],
   "source": [
    "dataframe_USA_groupby_final['Taxa de crescimento populacao EUA'] = dataframe_USA_groupby_final['Taxa de crescimento populacao EUA'].str.replace(r' %','')"
   ]
  },
  {
   "cell_type": "markdown",
   "id": "174e41c4",
   "metadata": {},
   "source": [
    "Preenchendo a primeira linha da coluna da taxa de crescimento dos EUA com base em busca na intenet"
   ]
  },
  {
   "cell_type": "code",
   "execution_count": null,
   "id": "1be379a3",
   "metadata": {},
   "outputs": [],
   "source": [
    "dataframe_USA_groupby_final['Taxa de crescimento populacao EUA'][0] = 1.29"
   ]
  },
  {
   "cell_type": "markdown",
   "id": "986503dc",
   "metadata": {},
   "source": [
    "Transformando a coluna da taxa de crescimento dos EUA em float"
   ]
  },
  {
   "cell_type": "code",
   "execution_count": null,
   "id": "0ee5a571",
   "metadata": {},
   "outputs": [],
   "source": [
    "dataframe_USA_groupby_final[['Taxa de crescimento populacao EUA']] = dataframe_USA_groupby_final[['Taxa de crescimento populacao EUA']].astype(float)"
   ]
  },
  {
   "cell_type": "code",
   "execution_count": null,
   "id": "c9af3639",
   "metadata": {},
   "outputs": [],
   "source": [
    "dataframe_USA_groupby_final"
   ]
  },
  {
   "cell_type": "code",
   "execution_count": null,
   "id": "8e6c2a0c",
   "metadata": {},
   "outputs": [],
   "source": []
  },
  {
   "cell_type": "markdown",
   "id": "b6ddca54",
   "metadata": {},
   "source": [
    "Plotando o gráfico comparando as taxas de crescimento de ataques e da populaçao dos EUA "
   ]
  },
  {
   "cell_type": "code",
   "execution_count": null,
   "id": "bd73ac4b",
   "metadata": {},
   "outputs": [],
   "source": [
    "dataframe_USA_groupby_final.plot(x='Ano',y= ['Variação Ano a Ano dos Ataques de Tubarão','Taxa de crescimento populacao EUA']) "
   ]
  },
  {
   "cell_type": "code",
   "execution_count": null,
   "id": "e44417a0",
   "metadata": {},
   "outputs": [],
   "source": [
    "dataframe_USA_groupby_final.plot.scatter(x ='Variação Ano a Ano dos Ataques de Tubarão' ,y='Taxa de crescimento populacao EUA', xlim=(-1,0.5), ylim=(0.6,1.3))"
   ]
  },
  {
   "cell_type": "code",
   "execution_count": null,
   "id": "84bf42f7",
   "metadata": {},
   "outputs": [],
   "source": []
  },
  {
   "cell_type": "markdown",
   "id": "03a0da7e",
   "metadata": {},
   "source": [
    "# Importando o dataframe com as informações do nivel do mar ao longo dos anos"
   ]
  },
  {
   "cell_type": "code",
   "execution_count": null,
   "id": "8a90ceae",
   "metadata": {},
   "outputs": [],
   "source": [
    "sea_level = pd.read_csv('data/sea-level_fig-1.csv')"
   ]
  },
  {
   "cell_type": "markdown",
   "id": "b8de6899",
   "metadata": {},
   "source": [
    "Limpando o dataframe do nivel do mar"
   ]
  },
  {
   "cell_type": "code",
   "execution_count": null,
   "id": "f8d50f0d",
   "metadata": {},
   "outputs": [],
   "source": [
    "sea_level['Elevação do nivel do mar(polegadas)'] = np.where(sea_level[['CSIRO - Adjusted sea level (inches)']].notna(),sea_level[['CSIRO - Adjusted sea level (inches)']],sea_level[['NOAA - Adjusted sea level (inches)']])"
   ]
  },
  {
   "cell_type": "markdown",
   "id": "9234d0b7",
   "metadata": {},
   "source": [
    "Criando primeiro dataframe para calculo da taxa da elevação do nivel do mar "
   ]
  },
  {
   "cell_type": "code",
   "execution_count": null,
   "id": "76982a10",
   "metadata": {},
   "outputs": [],
   "source": [
    "sea_level1 =sea_level[sea_level['Year']>1949]\n",
    "sea_level1= sea_level1[sea_level['Year']<2018].reset_index()\n",
    "sea_level1"
   ]
  },
  {
   "cell_type": "markdown",
   "id": "efefffde",
   "metadata": {},
   "source": [
    "Criando segundo dataframe para calculo da taxa da elevação do nivel do mar"
   ]
  },
  {
   "cell_type": "code",
   "execution_count": null,
   "id": "5f1c47fb",
   "metadata": {},
   "outputs": [],
   "source": [
    "sea_level2 =sea_level[sea_level['Year']>1950]\n",
    "sea_level2= sea_level2[sea_level['Year']<2019].reset_index()\n",
    "sea_level2"
   ]
  },
  {
   "cell_type": "markdown",
   "id": "211806f4",
   "metadata": {},
   "source": [
    "Criando a coluna com o calculo da taxa da elevação do nivel do mar"
   ]
  },
  {
   "cell_type": "code",
   "execution_count": null,
   "id": "af6af8ec",
   "metadata": {},
   "outputs": [],
   "source": [
    "sea_level2[['Variação da elevação dos mares']] =  (sea_level2[['Elevação do nivel do mar(polegadas)']] - sea_level1[['Elevação do nivel do mar(polegadas)']])/sea_level1[['Elevação do nivel do mar(polegadas)']]"
   ]
  },
  {
   "cell_type": "code",
   "execution_count": null,
   "id": "f67b2d92",
   "metadata": {},
   "outputs": [],
   "source": [
    "sea_level2"
   ]
  },
  {
   "cell_type": "markdown",
   "id": "d5d9258e",
   "metadata": {},
   "source": [
    "Adicionando a taxa do nivel do mar ao dataframe com as informações dos EUA"
   ]
  },
  {
   "cell_type": "code",
   "execution_count": null,
   "id": "15f46cc7",
   "metadata": {},
   "outputs": [],
   "source": [
    "dataframe_USA_groupby_final['Variação da elevação dos mares']= sea_level2[['Variação da elevação dos mares']]"
   ]
  },
  {
   "cell_type": "markdown",
   "id": "8860f0da",
   "metadata": {},
   "source": [
    "Plotando o gráfico comparando as taxas de crescimento de ataques e da elevação dos mares"
   ]
  },
  {
   "cell_type": "code",
   "execution_count": null,
   "id": "de25629e",
   "metadata": {},
   "outputs": [],
   "source": [
    "dataframe_USA_groupby_final.plot(x='Ano',y= ['Variação Ano a Ano dos Ataques de Tubarão','Variação da elevação dos mares']) "
   ]
  },
  {
   "cell_type": "code",
   "execution_count": null,
   "id": "3ed47229",
   "metadata": {},
   "outputs": [],
   "source": [
    "dataframe_USA_groupby_final.plot.scatter(x ='Variação Ano a Ano dos Ataques de Tubarão' ,y= 'Variação da elevação dos mares', xlim=(-1,1) , ylim=(-0.1,0.06) )"
   ]
  },
  {
   "cell_type": "code",
   "execution_count": null,
   "id": "d68787db",
   "metadata": {},
   "outputs": [],
   "source": [
    "dataframe_USA_groupby_final.corr()"
   ]
  },
  {
   "cell_type": "markdown",
   "id": "50407df0",
   "metadata": {},
   "source": [
    "Importando e limpando o dataframe com as informações da anomalia da temperatura do mar"
   ]
  },
  {
   "cell_type": "code",
   "execution_count": null,
   "id": "c1f8a939",
   "metadata": {},
   "outputs": [],
   "source": [
    "sea_temp = pd.read_csv('data/sea-surface-temp_fig-1.csv')\n",
    "sea_temp = sea_temp[sea_temp['Year']>1950]\n",
    "sea_temp = sea_temp[sea_temp['Year']<2019].reset_index()\n",
    "sea_temp"
   ]
  },
  {
   "cell_type": "markdown",
   "id": "87800593",
   "metadata": {},
   "source": [
    "Adicionando a anomalia da temperatura do mar ao dataframe com as informações dos EUA"
   ]
  },
  {
   "cell_type": "code",
   "execution_count": null,
   "id": "77398983",
   "metadata": {},
   "outputs": [],
   "source": [
    "dataframe_USA_groupby_final['Anomalia temperatura dos mares']= sea_temp[['Annual anomaly']"
   ]
  },
  {
   "cell_type": "markdown",
   "id": "74aed946",
   "metadata": {},
   "source": [
    "Plotando o gráfico comparando as taxas de crescimento de ataques e anomalia"
   ]
  },
  {
   "cell_type": "code",
   "execution_count": null,
   "id": "ca46bb9a",
   "metadata": {},
   "outputs": [],
   "source": [
    "dataframe_USA_groupby_final.plot(x='Ano',y= ['Variação Ano a Ano dos Ataques de Tubarão','Anomalia temperatura dos mares']) "
   ]
  },
  {
   "cell_type": "code",
   "execution_count": null,
   "id": "09fe155f",
   "metadata": {},
   "outputs": [],
   "source": [
    "dataframe_USA_groupby_final.plot.scatter(x ='Variação Ano a Ano dos Ataques de Tubarão' ,y= 'Anomalia temperatura dos mares', xlim=(-1,1) , ylim=(-0.6,0.5) )"
   ]
  },
  {
   "cell_type": "markdown",
   "id": "8542c161",
   "metadata": {},
   "source": [
    "# Exportando como .csv"
   ]
  },
  {
   "cell_type": "code",
   "execution_count": null,
   "id": "b6ac6a38",
   "metadata": {},
   "outputs": [],
   "source": [
    "dataframe_USA_groupby_final.to_csv('ataque_tubarao_clean.csv', index=False)"
   ]
  }
 ],
 "metadata": {
  "kernelspec": {
   "display_name": "Python 3",
   "language": "python",
   "name": "python3"
  },
  "language_info": {
   "codemirror_mode": {
    "name": "ipython",
    "version": 3
   },
   "file_extension": ".py",
   "mimetype": "text/x-python",
   "name": "python",
   "nbconvert_exporter": "python",
   "pygments_lexer": "ipython3",
   "version": "3.8.8"
  }
 },
 "nbformat": 4,
 "nbformat_minor": 5
}
